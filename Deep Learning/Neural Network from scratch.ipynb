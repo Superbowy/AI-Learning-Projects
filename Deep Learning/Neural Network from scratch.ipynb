{
 "cells": [
  {
   "cell_type": "code",
   "execution_count": 8,
   "id": "841f3a94",
   "metadata": {},
   "outputs": [],
   "source": [
    "import numpy as np\n",
    "from sklearn.datasets import fetch_openml\n",
    "from sklearn.model_selection import train_test_split\n",
    "\n",
    "X, Y = fetch_openml('mnist_784', return_X_y=True, as_frame=False)\n",
    "\n",
    "X_train, X_test, Y_train, Y_test = train_test_split(X, Y, train_size=0.6)\n",
    "\n",
    "X_train = X_train.T / 255\n",
    "X_test = X_test.T / 255\n",
    "Y_train = Y_train.astype(np.int16)\n",
    "Y_test = Y_test.astype(np.int16)"
   ]
  },
  {
   "cell_type": "code",
   "execution_count": 9,
   "id": "7a6319e1",
   "metadata": {},
   "outputs": [],
   "source": [
    "class MyNeuralNetwork:\n",
    "\n",
    "    def __init__(self, layer_format):\n",
    "\n",
    "        # Layer format as an array where each value is how many nodes at that layer.\n",
    "        self.layer_format = layer_format\n",
    "        self.hidden_layer_count = len(layer_format) - 2\n",
    "        self.weights = [None] * self.hidden_layer_count # Will be the length of self.hidden_layer_count\n",
    "        self.biases = [None] * self.hidden_layer_count\n",
    "\n",
    "        for i in range(self.hidden_layer_count):\n",
    "            self.weights[i] = np.random.rand(self.layer_format[i+1], self.layer_format[i]) - 0.5\n",
    "            self.biases[i] = np.random.rand(self.layer_format[i+1], 1) - 0.5\n",
    "       \n",
    "    def train(self, X, Y, alpha, epochs):\n",
    "        \n",
    "        for i in range(epochs + 1):\n",
    "            As, Zs = self.forward_prop(X)\n",
    "            dWeights, dBiases = self.backward_prop(As, Zs, X, Y)\n",
    "            self.update_params(dWeights, dBiases, alpha)\n",
    "            \n",
    "            if i % (epochs / 10) == 0:\n",
    "                accuracy = self.accuracy(self.proba_to_predict(As[-1]), Y)\n",
    "                accuracy = round(accuracy * 100, 2)\n",
    "                print(f\"Epoch #{i}. Accuracy : {accuracy}%.\")\n",
    "        print(\"------ Training Finished ------\")\n",
    "\n",
    "    def forward_prop(self, X):\n",
    "\n",
    "        As, Zs = [], []\n",
    "        for j in range(self.hidden_layer_count):\n",
    "            if len(As) == 0:\n",
    "                # First hidden layer\n",
    "                temp_Z = np.dot(self.weights[j], X) + self.biases[j]\n",
    "                temp_A = self.ReLU(temp_Z)\n",
    "            elif len(As) == self.hidden_layer_count - 1:\n",
    "                temp_Z = np.dot(self.weights[j], As[-1])+ self.biases[j]\n",
    "                temp_A = self.softmax(temp_Z)\n",
    "            else:\n",
    "                temp_Z = np.dot(self.weights[j], As[-1]) + self.biases[j]\n",
    "                temp_A = self.ReLU(temp_Z)\n",
    "                \n",
    "            Zs.append(temp_Z)\n",
    "            As.append(temp_A)\n",
    "        return As, Zs\n",
    "\n",
    "    def backward_prop(self, As, Zs, X, Y):\n",
    "        m = Y.size\n",
    "        encoded_Y = self.encode(Y)\n",
    "        dWeights, dBiases = [], []\n",
    "\n",
    "        for index in range(self.hidden_layer_count, 0, -1):\n",
    "            if index == self.hidden_layer_count:\n",
    "                # on est au dernier layer\n",
    "                temp_dZ = As[-1] - encoded_Y\n",
    "            else:\n",
    "                temp_dZ = self.weights[index + 1 - 1].T.dot(previous_dZ) * self.d_ReLU(Zs[index-1])\n",
    "\n",
    "            if index == 1:\n",
    "                temp_dW = 1 / m * temp_dZ.dot(X.T)\n",
    "            else:\n",
    "                temp_dW = 1 / m * temp_dZ.dot(As[index-2].T)\n",
    "\n",
    "            temp_dB = 1 / m * np.sum(temp_dZ, 1).reshape(-1, 1)\n",
    "\n",
    "            dWeights.insert(0, temp_dW)\n",
    "            dBiases.insert(0, temp_dB)\n",
    "            previous_dZ = temp_dZ\n",
    "            \n",
    "        return dWeights, dBiases\n",
    "\n",
    "    def update_params(self, dWeights, dBiases, alpha):\n",
    "        for j in range(self.hidden_layer_count):\n",
    "            self.weights[j] = self.weights[j] - alpha * dWeights[j]\n",
    "            self.biases[j] = self.biases[j] - alpha * dBiases[j]\n",
    "\n",
    "    def proba_to_predict(self, A):\n",
    "        return np.argmax(A, 0)\n",
    "\n",
    "    def accuracy(self, predictions, Y):\n",
    "        return np.sum(predictions == Y) / Y.size\n",
    "\n",
    "    def encode(self, Y):\n",
    "        encoded = np.zeros((Y.size, Y.max() + 1))\n",
    "        encoded[np.arange(Y.size), Y] = 1\n",
    "        encoded = encoded.T\n",
    "        return encoded\n",
    "\n",
    "    def predict(self, samples):\n",
    "        return self.proba_to_predict(self.forward_prop(samples)[-1][-1])\n",
    "\n",
    "    # Fonctions mathématiques nécessaires\n",
    "    def ReLU(self, Z):\n",
    "        # Comparaison élément par élément\n",
    "        return np.maximum(Z, 0)\n",
    "    \n",
    "    def softmax(self, Z):\n",
    "        # Nous retourne des probabilités\n",
    "        Z = Z - Z.max(axis=0)\n",
    "        A = np.exp(Z) / np.sum(np.exp(Z), axis=0)\n",
    "        return A\n",
    "\n",
    "    def d_ReLU(self, Z):\n",
    "        # Dérivée de ReLU. Fais la comparaison élément par élément. Si Z > 0, retourne true=1, la dérivée de f:x->x\n",
    "        return Z > 0"
   ]
  },
  {
   "cell_type": "code",
   "execution_count": 10,
   "id": "009a5c2f",
   "metadata": {},
   "outputs": [
    {
     "name": "stdout",
     "output_type": "stream",
     "text": [
      "Epoch #0. Accuracy : 8.68%.\n",
      "Epoch #50. Accuracy : 54.15%.\n",
      "Epoch #100. Accuracy : 69.51%.\n",
      "Epoch #150. Accuracy : 76.16%.\n",
      "Epoch #200. Accuracy : 79.24%.\n",
      "Epoch #250. Accuracy : 81.17%.\n",
      "Epoch #300. Accuracy : 82.51%.\n",
      "Epoch #350. Accuracy : 83.57%.\n",
      "Epoch #400. Accuracy : 84.57%.\n",
      "Epoch #450. Accuracy : 85.27%.\n",
      "Epoch #500. Accuracy : 85.8%.\n",
      "------ Training Finished ------\n"
     ]
    }
   ],
   "source": [
    "model = MyNeuralNetwork([784, 16, 10, 1])\n",
    "model.train(X_train, Y_train, epochs=500, alpha=0.1)"
   ]
  },
  {
   "cell_type": "code",
   "execution_count": 11,
   "id": "a1f97aac",
   "metadata": {},
   "outputs": [
    {
     "data": {
      "text/plain": [
       "0.8519285714285715"
      ]
     },
     "execution_count": 11,
     "metadata": {},
     "output_type": "execute_result"
    }
   ],
   "source": [
    "model.accuracy(model.predict(X_test), Y_test)"
   ]
  },
  {
   "cell_type": "code",
   "execution_count": 12,
   "id": "7f182259",
   "metadata": {},
   "outputs": [
    {
     "data": {
      "text/plain": [
       "<matplotlib.image.AxesImage at 0x28795b312b0>"
      ]
     },
     "execution_count": 12,
     "metadata": {},
     "output_type": "execute_result"
    },
    {
     "data": {
      "image/png": "[encoded data removed]",
      "text/plain": [
       "<Figure size 640x480 with 1 Axes>"
      ]
     },
     "metadata": {},
     "output_type": "display_data"
    }
   ],
   "source": [
    "import matplotlib.pyplot as plt\n",
    "\n",
    "plt.imshow(X_test[:, 2].reshape(28, 28))"
   ]
  },
  {
   "cell_type": "code",
   "execution_count": 15,
   "id": "749a811d",
   "metadata": {},
   "outputs": [],
   "source": [
    "X, Y = fetch_openml(\"Fashion-MNIST\", return_X_y=True, as_frame=False)\n",
    "\n",
    "X_train, X_test, Y_train, Y_test = train_test_split(X, Y, train_size=0.3)"
   ]
  },
  {
   "cell_type": "code",
   "execution_count": null,
   "id": "e790ebe3",
   "metadata": {},
   "outputs": [],
   "source": []
  },
  {
   "cell_type": "code",
   "execution_count": null,
   "id": "7c5e1bd4",
   "metadata": {},
   "outputs": [],
   "source": [
    "X_train = X_train.T / 255\n",
    "X_test = X_test.T / 255\n",
    "Y_train = Y_train.astype(np.int16)\n",
    "Y_test = Y_test.astype(np.int16)"
   ]
  }
 ],
 "metadata": {
  "kernelspec": {
   "display_name": "Python 3 (ipykernel)",
   "language": "python",
   "name": "python3"
  },
  "language_info": {
   "codemirror_mode": {
    "name": "ipython",
    "version": 3
   },
   "file_extension": ".py",
   "mimetype": "text/x-python",
   "name": "python",
   "nbconvert_exporter": "python",
   "pygments_lexer": "ipython3",
   "version": "3.9.13"
  }
 },
 "nbformat": 4,
 "nbformat_minor": 5
}
