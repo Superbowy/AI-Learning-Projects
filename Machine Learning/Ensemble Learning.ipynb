{
 "cells": [
  {
   "cell_type": "markdown",
   "id": "41982cb5",
   "metadata": {},
   "source": [
    "# Ensemble Learning\n",
    "\n",
    "---\n",
    "### Qu'est ce que c'est ?\n",
    "\n",
    "\"Ensemble Learning\" est un ensemble de techniques en machine learning qui combine plusieurs modèles pour en produire un seul, plus précis.\n",
    "\n",
    "Cette combinaison peut être faite de 3 manières :\n",
    "\n",
    "- \"Bagging\" : entraîne plusieurs modèles indépendamment et retourne la moyenne des prédictions\n",
    "\n",
    "- \"Boosting\" : entraîne plusieurs modèles successivement, où chaque modèle traite les erreurs du précédent avec plus d'importance\n",
    "\n",
    "- \"Stacking\" : entraîne plusieurs modèles de types différents, puis utilise un ultime modèle pour utiliser la donnée générée par les précédents modèles\n"
   ]
  },
  {
   "cell_type": "markdown",
   "id": "e650017d",
   "metadata": {},
   "source": [
    "## 0. Préparation de donnée et benchmark"
   ]
  },
  {
   "cell_type": "code",
   "execution_count": 69,
   "id": "162bf789",
   "metadata": {},
   "outputs": [],
   "source": [
    "import numpy as np\n",
    "from sklearn.datasets import load_wine\n",
    "from sklearn.model_selection import train_test_split\n",
    "\n",
    "X, Y = load_wine(return_X_y=True)\n",
    "X_train, X_test, Y_train, Y_test = train_test_split(X, Y)"
   ]
  },
  {
   "cell_type": "code",
   "execution_count": 70,
   "id": "22d61e42",
   "metadata": {},
   "outputs": [
    {
     "name": "stdout",
     "output_type": "stream",
     "text": [
      "[0.82, 0.84, 0.82, 0.8, 0.82, 0.84, 0.84, 0.82, 0.84, 0.82]\n"
     ]
    }
   ],
   "source": [
    "from sklearn.tree import DecisionTreeClassifier\n",
    "\n",
    "scores = []\n",
    "\n",
    "for j in range(10):\n",
    "    tree = DecisionTreeClassifier()\n",
    "    tree.fit(X_train, Y_train)\n",
    "    scores.append(round(tree.score(X_test, Y_test), 2))\n",
    "\n",
    "print(scores)"
   ]
  },
  {
   "cell_type": "markdown",
   "id": "fd2a377d",
   "metadata": {},
   "source": [
    "\n",
    "\n",
    "#### IMPORTANT\n",
    "\n",
    "On voit juste au dessus les scores de différents arbres de décision pour comparer ensuite nos méthods suivantes.\n",
    "\n",
    " \n",
    "\n",
    "## 1. Bagging : Random Forest et BaggingClassifier\n",
    "\n",
    " \n",
    "\n",
    "#### Random Forest\n",
    "\n",
    " \n",
    "\n",
    "L'algorithme de Random Forest est un cas particulier de bagging, très populaire car il permet de minimiser les défauts de l'arbre de décision, notamment l'over-fitting et propose d'excellentes performances. C'est un regroupement de decision trees, que l'on avait vu (et implémenté !) dans un précédent post."
   ]
  },
  {
   "cell_type": "markdown",
   "id": "9c41b72f",
   "metadata": {},
   "source": [
    "<div>\n",
    "<img src=\"bagging.png\" width=\"500\"/>\n",
    "</div>"
   ]
  },
  {
   "cell_type": "code",
   "execution_count": 71,
   "id": "7b1daf3f",
   "metadata": {},
   "outputs": [
    {
     "name": "stdout",
     "output_type": "stream",
     "text": [
      "Random Forest score on test set : 0.98\n"
     ]
    }
   ],
   "source": [
    "from sklearn.ensemble import RandomForestClassifier\n",
    "\n",
    "random_forest = RandomForestClassifier(n_estimators=10)\n",
    "random_forest.fit(X_train, Y_train)\n",
    "random_forest_score = round(random_forest.score(X_test, Y_test), 2)\n",
    "\n",
    "print(f\"Random Forest score on test set : {random_forest_score}\")"
   ]
  },
  {
   "cell_type": "markdown",
   "id": "78c7eaa6",
   "metadata": {},
   "source": [
    "#### BaggingClassifier\n",
    "\n",
    " \n",
    "\n",
    "Le modèle pour le bagging dans sk-learn est BaggingClassifier. On lui passe comme paramètre le modèle sous-jacent à utiliser, et la quantité de ces modèles que l'on veut générer et ensuite moyenner. Ici, je l'implémente avec comme modèle sous-jacent un arbre de décision, et autant de modèle sous-jacents que dans la random forest.\n"
   ]
  },
  {
   "cell_type": "code",
   "execution_count": 72,
   "id": "9303768d",
   "metadata": {},
   "outputs": [
    {
     "name": "stdout",
     "output_type": "stream",
     "text": [
      "Bagged Decision Trees score on test set : 0.93\n"
     ]
    }
   ],
   "source": [
    "from sklearn.tree import DecisionTreeClassifier\n",
    "from sklearn.ensemble import BaggingClassifier\n",
    "\n",
    "decision_tree_bagged = BaggingClassifier(base_estimator=DecisionTreeClassifier(), n_estimators=10)\n",
    "decision_tree_bagged.fit(X_train, Y_train)\n",
    "bagged_score = round(decision_tree_bagged.score(X_test, Y_test), 2)\n",
    "\n",
    "print(f\"Bagged Decision Trees score on test set : {bagged_score}\") "
   ]
  },
  {
   "cell_type": "markdown",
   "id": "50993646",
   "metadata": {},
   "source": [
    "\n",
    "## 1. Boosting : Gradient Boosting Classifier "
   ]
  },
  {
   "cell_type": "markdown",
   "id": "3d663a0b",
   "metadata": {},
   "source": [
    "Pour booster, on utilise GradientBoostingClassifier. Cela génère des modèles du même types qui s'entraînent successivement en accordant plus d'importance aux erreurs du précédent modèle.\n",
    "Cela permet d'augmenter notre score au fur et à mesure des entraînements successifs."
   ]
  },
  {
   "cell_type": "markdown",
   "id": "c7b64171",
   "metadata": {},
   "source": [
    "<div>\n",
    "<img src=\"boosting.png\" width=\"500\"/>\n",
    "</div>"
   ]
  },
  {
   "cell_type": "code",
   "execution_count": 73,
   "id": "40740960",
   "metadata": {},
   "outputs": [
    {
     "name": "stdout",
     "output_type": "stream",
     "text": [
      "Boosted Classifier score on test set : 0.91\n"
     ]
    }
   ],
   "source": [
    "from sklearn.ensemble import GradientBoostingClassifier \n",
    "\n",
    "boosted_classifier = GradientBoostingClassifier(n_estimators=10)\n",
    "boosted_classifier.fit(X_train, Y_train)\n",
    "boosted_score = round(boosted_classifier.score(X_test, Y_test), 2)\n",
    "\n",
    "print(f\"Boosted Classifier score on test set : {boosted_score}\")"
   ]
  },
  {
   "cell_type": "markdown",
   "id": "67962aa4",
   "metadata": {},
   "source": [
    "## 2. Stacking : Stacking Classifier"
   ]
  },
  {
   "cell_type": "markdown",
   "id": "68ba9755",
   "metadata": {},
   "source": [
    "Le stacking se fait avec StackingClassifier. Il s'agît d'entraîner des modèles de types différents (alors que boosting et bagging étaient des modèles de type identique), qui génère leurs prédictions. Enfin, un meta-modèle aggrege toutes ces prédictions pour en faire une seule, celle de notre modèle final."
   ]
  },
  {
   "cell_type": "markdown",
   "id": "f6fb4483",
   "metadata": {},
   "source": [
    "<div>\n",
    "<img src=\"stacking.png\" width=\"500\"/>\n",
    "</div>"
   ]
  },
  {
   "cell_type": "code",
   "execution_count": 74,
   "id": "b53d1f06",
   "metadata": {},
   "outputs": [
    {
     "name": "stdout",
     "output_type": "stream",
     "text": [
      "Stacked Classifier score on test set : 0.87\n"
     ]
    }
   ],
   "source": [
    "from sklearn.neighbors import KNeighborsClassifier\n",
    "from sklearn.ensemble import StackingClassifier\n",
    "\n",
    "estimators = [('k_neighbors',  KNeighborsClassifier()),\n",
    "\n",
    "             ('decision_tree', DecisionTreeClassifier())] \n",
    "\n",
    "\n",
    "stack_model = StackingClassifier(estimators=estimators)\n",
    "stack_model.fit(X_train, Y_train)\n",
    "stack_score = round(stack_model.score(X_test, Y_test), 2)\n",
    "\n",
    "print(f\"Stacked Classifier score on test set : {stack_score}\")"
   ]
  },
  {
   "cell_type": "code",
   "execution_count": 75,
   "id": "db6f69ea",
   "metadata": {},
   "outputs": [
    {
     "data": {
      "image/png": "[encoded data removed]",
      "text/plain": [
       "<Figure size 640x480 with 1 Axes>"
      ]
     },
     "metadata": {},
     "output_type": "display_data"
    }
   ],
   "source": [
    "import matplotlib.pyplot as plt\n",
    "import numpy as np\n",
    "\n",
    "x = [\"Decision Tree (moyenne)\", \"Bagging\", \"Boosting\", \"Stacking\"]\n",
    "y = [round(np.array(scores).mean(), 2), bagged_score, boosted_score, stack_score]\n",
    "\n",
    "fig, ax = plt.subplots()\n",
    "bars = ax.bar(x, y, width=0.4, color=\"coral\", alpha=0.9, edgecolor='black', linewidth=1)\n",
    "\n",
    "ax.bar_label(bars, padding=8)\n",
    "ax.tick_params(axis='both', which='both', length=5)\n",
    "ax.set_ylim(min(y) * 0.9, max(y) * 1.1)\n",
    "ax.grid(axis='y', linestyle='--', alpha=0.7)\n",
    "ax.set_axisbelow(True)"
   ]
  }
 ],
 "metadata": {
  "kernelspec": {
   "display_name": "Python 3 (ipykernel)",
   "language": "python",
   "name": "python3"
  },
  "language_info": {
   "codemirror_mode": {
    "name": "ipython",
    "version": 3
   },
   "file_extension": ".py",
   "mimetype": "text/x-python",
   "name": "python",
   "nbconvert_exporter": "python",
   "pygments_lexer": "ipython3",
   "version": "3.9.13"
  }
 },
 "nbformat": 4,
 "nbformat_minor": 5
}
